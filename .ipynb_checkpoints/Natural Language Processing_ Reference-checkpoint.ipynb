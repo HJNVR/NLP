{
 "cells": [
  {
   "cell_type": "markdown",
   "id": "f74e28c3",
   "metadata": {},
   "source": [
    "# 1. Handling text in python"
   ]
  },
  {
   "cell_type": "code",
   "execution_count": 2,
   "id": "f10e973e",
   "metadata": {},
   "outputs": [
    {
     "data": {
      "text/plain": [
       "76"
      ]
     },
     "execution_count": 2,
     "metadata": {},
     "output_type": "execute_result"
    }
   ],
   "source": [
    "text1 = \"Ethics are built right into the ideals and objectives of the United Nations \"\n",
    "len(text1)  "
   ]
  },
  {
   "cell_type": "code",
   "execution_count": 3,
   "id": "77becab7",
   "metadata": {},
   "outputs": [
    {
     "data": {
      "text/plain": [
       "['Ethics',\n",
       " 'are',\n",
       " 'built',\n",
       " 'right',\n",
       " 'into',\n",
       " 'the',\n",
       " 'ideals',\n",
       " 'and',\n",
       " 'objectives',\n",
       " 'of',\n",
       " 'the',\n",
       " 'United',\n",
       " 'Nations',\n",
       " '']"
      ]
     },
     "execution_count": 3,
     "metadata": {},
     "output_type": "execute_result"
    }
   ],
   "source": [
    "text2 = text1.split(' ')\n",
    "text2"
   ]
  },
  {
   "cell_type": "code",
   "execution_count": 4,
   "id": "783bf51a",
   "metadata": {},
   "outputs": [
    {
     "data": {
      "text/plain": [
       "14"
      ]
     },
     "execution_count": 4,
     "metadata": {},
     "output_type": "execute_result"
    }
   ],
   "source": [
    "len(text2)"
   ]
  },
  {
   "cell_type": "markdown",
   "id": "005f1928",
   "metadata": {},
   "source": [
    "## Find specific words"
   ]
  },
  {
   "cell_type": "code",
   "execution_count": 5,
   "id": "2f3036b5",
   "metadata": {},
   "outputs": [
    {
     "data": {
      "text/plain": [
       "['Ethics',\n",
       " 'built',\n",
       " 'right',\n",
       " 'into',\n",
       " 'ideals',\n",
       " 'objectives',\n",
       " 'United',\n",
       " 'Nations']"
      ]
     },
     "execution_count": 5,
     "metadata": {},
     "output_type": "execute_result"
    }
   ],
   "source": [
    "# long words: Words that are more than 3 letters long\n",
    "[w for w in text2 if len(w) > 3]"
   ]
  },
  {
   "cell_type": "code",
   "execution_count": 6,
   "id": "84e52f84",
   "metadata": {},
   "outputs": [
    {
     "data": {
      "text/plain": [
       "['Ethics', 'United', 'Nations']"
      ]
     },
     "execution_count": 6,
     "metadata": {},
     "output_type": "execute_result"
    }
   ],
   "source": [
    "# Find capitalized words\n",
    "[w for w in text2 if w.istitle()]"
   ]
  },
  {
   "cell_type": "code",
   "execution_count": 7,
   "id": "793485fc",
   "metadata": {},
   "outputs": [
    {
     "data": {
      "text/plain": [
       "['Ethics', 'ideals', 'objectives', 'Nations']"
      ]
     },
     "execution_count": 7,
     "metadata": {},
     "output_type": "execute_result"
    }
   ],
   "source": [
    "# words that end with s\n",
    "[w for w in text2 if w.endswith('s')]"
   ]
  },
  {
   "cell_type": "markdown",
   "id": "0f4e8bf7",
   "metadata": {},
   "source": [
    "## Find unique words: using set()"
   ]
  },
  {
   "cell_type": "code",
   "execution_count": 8,
   "id": "449ae283",
   "metadata": {},
   "outputs": [
    {
     "data": {
      "text/plain": [
       "6"
      ]
     },
     "execution_count": 8,
     "metadata": {},
     "output_type": "execute_result"
    }
   ],
   "source": [
    "text3 = 'To be or not to be'\n",
    "text4 = text3.split()\n",
    "len(text4)"
   ]
  },
  {
   "cell_type": "code",
   "execution_count": 9,
   "id": "1796335a",
   "metadata": {},
   "outputs": [
    {
     "data": {
      "text/plain": [
       "5"
      ]
     },
     "execution_count": 9,
     "metadata": {},
     "output_type": "execute_result"
    }
   ],
   "source": [
    "len(set(text4))"
   ]
  },
  {
   "cell_type": "code",
   "execution_count": 10,
   "id": "96420366",
   "metadata": {},
   "outputs": [
    {
     "data": {
      "text/plain": [
       "{'To', 'be', 'not', 'or', 'to'}"
      ]
     },
     "execution_count": 10,
     "metadata": {},
     "output_type": "execute_result"
    }
   ],
   "source": [
    "set(text4)"
   ]
  },
  {
   "cell_type": "code",
   "execution_count": 11,
   "id": "fc25da03",
   "metadata": {},
   "outputs": [
    {
     "data": {
      "text/plain": [
       "4"
      ]
     },
     "execution_count": 11,
     "metadata": {},
     "output_type": "execute_result"
    }
   ],
   "source": [
    "len(set([w.lower() for w in text4]))"
   ]
  },
  {
   "cell_type": "code",
   "execution_count": 12,
   "id": "6a1923ea",
   "metadata": {},
   "outputs": [
    {
     "data": {
      "text/plain": [
       "{'be', 'not', 'or', 'to'}"
      ]
     },
     "execution_count": 12,
     "metadata": {},
     "output_type": "execute_result"
    }
   ],
   "source": [
    "set([w.lower() for w in text4])"
   ]
  },
  {
   "cell_type": "markdown",
   "id": "5db3cf99",
   "metadata": {},
   "source": [
    "## some word comparison functions\n",
    "\n",
    "* s.startwith(t)\n",
    "* s.endswith(t)\n",
    "* t in s\n",
    "* s.isupper(); s.lower(); s.istitle()\n",
    "* s.isalpha(); s.isdigit(); s.isalnum()"
   ]
  },
  {
   "cell_type": "markdown",
   "id": "195fad3f",
   "metadata": {},
   "source": [
    "## String Operations\n",
    "\n",
    "* s.lower(); s.supper(); s.titlecase()\n",
    "* s.split()\n",
    "* s.splitlines()\n",
    "* s.join(t)\n",
    "* s.strip(); s.rstrip()\n",
    "* s.find(t); s.rfind(t)\n",
    "* s.replace(u,v)"
   ]
  },
  {
   "cell_type": "markdown",
   "id": "b30228c3",
   "metadata": {},
   "source": [
    "## From words to characters"
   ]
  },
  {
   "cell_type": "code",
   "execution_count": 13,
   "id": "b0eed4e5",
   "metadata": {},
   "outputs": [
    {
     "data": {
      "text/plain": [
       "['', 'agad', 'g', '']"
      ]
     },
     "execution_count": 13,
     "metadata": {},
     "output_type": "execute_result"
    }
   ],
   "source": [
    "text5 = \"ouagadougou\"\n",
    "text6 = text5.split('ou')\n",
    "text6"
   ]
  },
  {
   "cell_type": "code",
   "execution_count": 14,
   "id": "1091cd1c",
   "metadata": {},
   "outputs": [
    {
     "data": {
      "text/plain": [
       "'ouagadougou'"
      ]
     },
     "execution_count": 14,
     "metadata": {},
     "output_type": "execute_result"
    }
   ],
   "source": [
    "'ou'.join(text6)"
   ]
  },
  {
   "cell_type": "code",
   "execution_count": 15,
   "id": "6205b574",
   "metadata": {},
   "outputs": [
    {
     "data": {
      "text/plain": [
       "['ouagadougou']"
      ]
     },
     "execution_count": 15,
     "metadata": {},
     "output_type": "execute_result"
    }
   ],
   "source": [
    "text5.split()"
   ]
  },
  {
   "cell_type": "code",
   "execution_count": 17,
   "id": "46829efc",
   "metadata": {
    "scrolled": true
   },
   "outputs": [
    {
     "ename": "ValueError",
     "evalue": "empty separator",
     "output_type": "error",
     "traceback": [
      "\u001b[0;31m---------------------------------------------------------------------------\u001b[0m",
      "\u001b[0;31mValueError\u001b[0m                                Traceback (most recent call last)",
      "\u001b[0;32m/var/folders/pf/6m70llld5kz3jp5trc8kh13w0000gn/T/ipykernel_19414/3018022739.py\u001b[0m in \u001b[0;36m<module>\u001b[0;34m\u001b[0m\n\u001b[0;32m----> 1\u001b[0;31m \u001b[0mtext5\u001b[0m\u001b[0;34m.\u001b[0m\u001b[0msplit\u001b[0m\u001b[0;34m(\u001b[0m\u001b[0;34m''\u001b[0m\u001b[0;34m)\u001b[0m \u001b[0;31m# we cannot split based on empty separator\u001b[0m\u001b[0;34m\u001b[0m\u001b[0;34m\u001b[0m\u001b[0m\n\u001b[0m",
      "\u001b[0;31mValueError\u001b[0m: empty separator"
     ]
    }
   ],
   "source": [
    "text5.split('') # we cannot split based on empty separator"
   ]
  },
  {
   "cell_type": "code",
   "execution_count": 18,
   "id": "6bda09bd",
   "metadata": {},
   "outputs": [
    {
     "data": {
      "text/plain": [
       "['o', 'u', 'a', 'g', 'a', 'd', 'o', 'u', 'g', 'o', 'u']"
      ]
     },
     "execution_count": 18,
     "metadata": {},
     "output_type": "execute_result"
    }
   ],
   "source": [
    "list(text5) # this is the right way to split words into characters"
   ]
  },
  {
   "cell_type": "markdown",
   "id": "0ded5354",
   "metadata": {},
   "source": [
    "## Cleaning text"
   ]
  },
  {
   "cell_type": "code",
   "execution_count": 19,
   "id": "18f2f5fa",
   "metadata": {},
   "outputs": [
    {
     "data": {
      "text/plain": [
       "['',\n",
       " '',\n",
       " '\\t',\n",
       " 'A',\n",
       " 'quick',\n",
       " 'brown',\n",
       " 'fox',\n",
       " 'jumped',\n",
       " 'over',\n",
       " 'the',\n",
       " 'lazy',\n",
       " 'dog.',\n",
       " '']"
      ]
     },
     "execution_count": 19,
     "metadata": {},
     "output_type": "execute_result"
    }
   ],
   "source": [
    "text8 = '  \t A quick brown fox jumped over the lazy dog. '\n",
    "text8.split(' ')"
   ]
  },
  {
   "cell_type": "code",
   "execution_count": 20,
   "id": "17129bc4",
   "metadata": {},
   "outputs": [
    {
     "data": {
      "text/plain": [
       "['A', 'quick', 'brown', 'fox', 'jumped', 'over', 'the', 'lazy', 'dog.']"
      ]
     },
     "execution_count": 20,
     "metadata": {},
     "output_type": "execute_result"
    }
   ],
   "source": [
    "text9 = text8.strip() # strip all non-needed white spaces\n",
    "text9.split(' ') "
   ]
  },
  {
   "cell_type": "markdown",
   "id": "438db49b",
   "metadata": {},
   "source": [
    "## Chaning text"
   ]
  },
  {
   "cell_type": "code",
   "execution_count": 21,
   "id": "ddb986a0",
   "metadata": {},
   "outputs": [
    {
     "data": {
      "text/plain": [
       "'A quick brown fox jumped over the lazy dog.'"
      ]
     },
     "execution_count": 21,
     "metadata": {},
     "output_type": "execute_result"
    }
   ],
   "source": [
    "# Find and replace\n",
    "text9"
   ]
  },
  {
   "cell_type": "code",
   "execution_count": 22,
   "id": "ee1b5419",
   "metadata": {},
   "outputs": [
    {
     "data": {
      "text/plain": [
       "10"
      ]
     },
     "execution_count": 22,
     "metadata": {},
     "output_type": "execute_result"
    }
   ],
   "source": [
    "text9.find('o')"
   ]
  },
  {
   "cell_type": "code",
   "execution_count": 23,
   "id": "ac58d9bd",
   "metadata": {},
   "outputs": [
    {
     "data": {
      "text/plain": [
       "40"
      ]
     },
     "execution_count": 23,
     "metadata": {},
     "output_type": "execute_result"
    }
   ],
   "source": [
    "text9.rfind('o')"
   ]
  },
  {
   "cell_type": "code",
   "execution_count": 24,
   "id": "616e6e88",
   "metadata": {},
   "outputs": [
    {
     "data": {
      "text/plain": [
       "'A quick brOwn fOx jumped Over the lazy dOg.'"
      ]
     },
     "execution_count": 24,
     "metadata": {},
     "output_type": "execute_result"
    }
   ],
   "source": [
    "text9.replace('o', 'O')"
   ]
  },
  {
   "cell_type": "markdown",
   "id": "56a4a2bb",
   "metadata": {},
   "source": [
    "## Reading files line by line"
   ]
  },
  {
   "cell_type": "code",
   "execution_count": 25,
   "id": "930e7dff",
   "metadata": {},
   "outputs": [
    {
     "data": {
      "text/plain": [
       "'We first compare our approach against recent methods\\n'"
      ]
     },
     "execution_count": 25,
     "metadata": {},
     "output_type": "execute_result"
    }
   ],
   "source": [
    "f = open('text1.txt', 'r')\n",
    "f.readline()"
   ]
  },
  {
   "cell_type": "markdown",
   "id": "6def99cb",
   "metadata": {},
   "source": [
    "## Read the full file"
   ]
  },
  {
   "cell_type": "code",
   "execution_count": 26,
   "id": "96f85dd7",
   "metadata": {},
   "outputs": [
    {
     "data": {
      "text/plain": [
       "575"
      ]
     },
     "execution_count": 26,
     "metadata": {},
     "output_type": "execute_result"
    }
   ],
   "source": [
    "f.seek(0)\n",
    "text12 = f.read()\n",
    "len(text12)"
   ]
  },
  {
   "cell_type": "code",
   "execution_count": 27,
   "id": "e28efaba",
   "metadata": {},
   "outputs": [
    {
     "data": {
      "text/plain": [
       "['We first compare our approach against recent methods',\n",
       " 'for unpaired image-to-image translation on paired datasets',\n",
       " 'where ground truth input-output pairs are available for evaluation.',\n",
       " 'We then study the importance of both the adversarial',\n",
       " 'loss and the cycle consistency loss and compare our full',\n",
       " 'method against several variants. Finally, we demonstrate',\n",
       " 'the generality of our algorithm on a wide range of applications',\n",
       " 'where paired data does not exist. For brevity, we refer',\n",
       " 'to our method as CycleGAN. The PyTorch and Torch code,',\n",
       " 'models, and full results can be found at our website.']"
      ]
     },
     "execution_count": 27,
     "metadata": {},
     "output_type": "execute_result"
    }
   ],
   "source": [
    "text13 = text12.splitlines()\n",
    "text13"
   ]
  },
  {
   "cell_type": "code",
   "execution_count": 28,
   "id": "5fb96ac6",
   "metadata": {},
   "outputs": [
    {
     "data": {
      "text/plain": [
       "10"
      ]
     },
     "execution_count": 28,
     "metadata": {},
     "output_type": "execute_result"
    }
   ],
   "source": [
    "len(text13)"
   ]
  },
  {
   "cell_type": "code",
   "execution_count": 29,
   "id": "67838c07",
   "metadata": {},
   "outputs": [
    {
     "data": {
      "text/plain": [
       "'We first compare our approach against recent methods'"
      ]
     },
     "execution_count": 29,
     "metadata": {},
     "output_type": "execute_result"
    }
   ],
   "source": [
    "text13[0]"
   ]
  },
  {
   "cell_type": "markdown",
   "id": "c20d1fed",
   "metadata": {},
   "source": [
    "## File operations\n",
    "\n",
    "* f = open(filename, mode)\n",
    "* f.readline(); f.read(); f.read(n)\n",
    "* for line in f: doSomething(line)\n",
    "* f.seek(n)\n",
    "* f.write(message)\n",
    "* f.close()"
   ]
  },
  {
   "cell_type": "markdown",
   "id": "5d0dda7f",
   "metadata": {},
   "source": [
    "## Issues with reading text files "
   ]
  },
  {
   "cell_type": "code",
   "execution_count": 30,
   "id": "3ff29271",
   "metadata": {},
   "outputs": [
    {
     "data": {
      "text/plain": [
       "'We first compare our approach against recent methods\\n'"
      ]
     },
     "execution_count": 30,
     "metadata": {},
     "output_type": "execute_result"
    }
   ],
   "source": [
    "# remove the last newline character\n",
    "f = open(\"text1.txt\", 'r')\n",
    "text14 = f.readline()\n",
    "text14"
   ]
  },
  {
   "cell_type": "markdown",
   "id": "c9c2525e",
   "metadata": {},
   "source": [
    "## how do you remove the last newline character"
   ]
  },
  {
   "cell_type": "code",
   "execution_count": 31,
   "id": "7502a93c",
   "metadata": {},
   "outputs": [
    {
     "data": {
      "text/plain": [
       "'We first compare our approach against recent methods'"
      ]
     },
     "execution_count": 31,
     "metadata": {},
     "output_type": "execute_result"
    }
   ],
   "source": [
    "text14.rstrip() # we strip white spaces from the right side"
   ]
  },
  {
   "cell_type": "code",
   "execution_count": 32,
   "id": "d6fab20c",
   "metadata": {},
   "outputs": [
    {
     "data": {
      "text/plain": [
       "'We first compare our approach against recent methods'"
      ]
     },
     "execution_count": 32,
     "metadata": {},
     "output_type": "execute_result"
    }
   ],
   "source": [
    "text14.strip() # we strip the white spaces starting from the left side"
   ]
  },
  {
   "cell_type": "markdown",
   "id": "4f98649f",
   "metadata": {},
   "source": [
    "# 2. Regular Expressions"
   ]
  },
  {
   "cell_type": "markdown",
   "id": "87aae728",
   "metadata": {},
   "source": [
    "## Processing free-text"
   ]
  },
  {
   "cell_type": "code",
   "execution_count": 33,
   "id": "29ea652f",
   "metadata": {},
   "outputs": [
    {
     "name": "stdout",
     "output_type": "stream",
     "text": [
      "['#regex', '#pandas', '#python']\n"
     ]
    }
   ],
   "source": [
    "# Find words with hashtags\n",
    "tweet = \"@nltk Text analysis is awesome! #regex #pandas #python\"\n",
    "print([word for word in tweet.split() if word.startswith('#')])"
   ]
  },
  {
   "cell_type": "code",
   "execution_count": 35,
   "id": "17831262",
   "metadata": {},
   "outputs": [
    {
     "data": {
      "text/plain": [
       "['@']"
      ]
     },
     "execution_count": 35,
     "metadata": {},
     "output_type": "execute_result"
    }
   ],
   "source": [
    "# find callouts\n",
    "[w for w in tweet if w.startswith('@')]"
   ]
  },
  {
   "cell_type": "markdown",
   "id": "b5e3093d",
   "metadata": {},
   "source": [
    "## Callouts are more than just tokens beginning with '@'\n",
    "@utoronto.ca @gmail.com \n",
    "\n",
    "Match something after '@'\n",
    "- Alphabets\n",
    "- Numbers\n",
    "- Specoal symbols like '_'\n",
    "\n",
    "@[A-Za-z0-9]+ "
   ]
  },
  {
   "cell_type": "code",
   "execution_count": 40,
   "id": "6a85e18f",
   "metadata": {},
   "outputs": [
    {
     "data": {
      "text/plain": [
       "['\"Ethics',\n",
       " 'are',\n",
       " 'built',\n",
       " 'right',\n",
       " 'into',\n",
       " 'the',\n",
       " 'ideals',\n",
       " 'and',\n",
       " 'objectives',\n",
       " 'of',\n",
       " 'the',\n",
       " 'united',\n",
       " 'Nations\"',\n",
       " '#UNSG',\n",
       " '@',\n",
       " 'NY',\n",
       " 'Society',\n",
       " 'for',\n",
       " 'Ethical',\n",
       " 'Culture',\n",
       " 'bit.ly/2guVelr',\n",
       " '@UN',\n",
       " '@UN_Women']"
      ]
     },
     "execution_count": 40,
     "metadata": {},
     "output_type": "execute_result"
    }
   ],
   "source": [
    "text10 = '\"Ethics are built right into the ideals and objectives of the united \\\n",
    "Nations\" #UNSG @ NY Society for Ethical Culture bit.ly/2guVelr @UN @UN_Women'\n",
    "text11 = text10.split()\n",
    "text11"
   ]
  },
  {
   "cell_type": "code",
   "execution_count": 42,
   "id": "b879caf0",
   "metadata": {},
   "outputs": [
    {
     "data": {
      "text/plain": [
       "['@', '@UN', '@UN_Women']"
      ]
     },
     "execution_count": 42,
     "metadata": {},
     "output_type": "execute_result"
    }
   ],
   "source": [
    "[w for w in text11 if w.startswith('@')]"
   ]
  },
  {
   "cell_type": "markdown",
   "id": "3bbbe95e",
   "metadata": {},
   "source": [
    "## Import regular expression first\n",
    "\n",
    "@[A-Za-z0-9]+ \n",
    "\n",
    "@: starts with @ \\\n",
    "[A-Za-z0-9]: followed by any alphabet(upper or lower case), digit, or undersocre \\\n",
    "+: repeats at least onece, but any number of times"
   ]
  },
  {
   "cell_type": "code",
   "execution_count": 44,
   "id": "cf1f3405",
   "metadata": {},
   "outputs": [
    {
     "data": {
      "text/plain": [
       "['@UN', '@UN_Women']"
      ]
     },
     "execution_count": 44,
     "metadata": {},
     "output_type": "execute_result"
    }
   ],
   "source": [
    "import re\n",
    "[w for w in text11 if re.search('@[A-Za-z0-9_]+', w)]"
   ]
  },
  {
   "cell_type": "markdown",
   "id": "5b1ac585",
   "metadata": {},
   "source": [
    "## Meta-characters: Character matches\n",
    "\n",
    ". : wildcard, matches a single character \\\n",
    "^ : start of a string \\\n",
    "$ : end of a string \\\n",
    "[]: matches one of the set of characters within [] \\\n",
    "[a-z] : matches one of the range of character a,b,...,z \\ \n",
    "[^abc] : matches a character that is not a,b,or,c \\\n",
    "a|b : matches either a or b, where a and b are strings \\\n",
    "() : Scoping for operators \\\n",
    "\\ : Escape character for sepcial characters(\\t, \\n, \\b)"
   ]
  },
  {
   "cell_type": "markdown",
   "id": "a25816e7",
   "metadata": {},
   "source": [
    "## Meta-characters: Character symbols\n",
    "\\b : Matches word bounday \\\n",
    "\\d : Any digit, equivalent to [0-9] \\\n",
    "\\D : Any non-digit, equivalent to [^0-9] \\\n",
    "\\s : Any whitespace, equivalent to [ \\t\\n\\r\\f\\v] \\\n",
    "\\S : Any non-whitespace, equivalent to [^ \\t\\n\\r\\f\\v] \\\n",
    "\\w : Alphabumeric character, equivalent to [a-zA-Z0-9_] \\\n",
    "\\W : Non-alphanumeric, equivalent to [^a-zA-Z0-9_]\n"
   ]
  },
  {
   "cell_type": "markdown",
   "id": "3494dee6",
   "metadata": {},
   "source": [
    "## Meta-characters: Repetitions\n",
    "\n",
    "there is not quote, but in juputer notebook, have to add quote\n",
    "'*' : matches zero or more occurences \\ \n",
    "'+' : matches one or more occurences \\\n",
    "? : matches zero or one occurences \\\n",
    "{n} : exactly n repetitions, n >= 0 \\\n",
    "{n,} : at least n repetions \\\n",
    "{,n} : at most n repetions \\\n",
    "{m,n} : at least m and at most n repetions\\\n",
    "\n"
   ]
  },
  {
   "cell_type": "markdown",
   "id": "64f90e25",
   "metadata": {},
   "source": [
    "## Find specific characters"
   ]
  },
  {
   "cell_type": "code",
   "execution_count": 53,
   "id": "96ce6aba",
   "metadata": {},
   "outputs": [
    {
     "data": {
      "text/plain": [
       "['o', 'u', 'a', 'a', 'o', 'u', 'o', 'u']"
      ]
     },
     "execution_count": 53,
     "metadata": {},
     "output_type": "execute_result"
    }
   ],
   "source": [
    "text12 = \"ouagadougou\"\n",
    "re.findall(r'[aeiou]', text12) # find all characters that match at least one of the hcaracters in the brackets"
   ]
  },
  {
   "cell_type": "code",
   "execution_count": 55,
   "id": "6087383c",
   "metadata": {
    "scrolled": true
   },
   "outputs": [
    {
     "data": {
      "text/plain": [
       "['g', 'd', 'g']"
      ]
     },
     "execution_count": 55,
     "metadata": {},
     "output_type": "execute_result"
    }
   ],
   "source": [
    "re.findall(r'[^aeiou]', text12) # find all characters that do not match any of the characters in the brackets"
   ]
  },
  {
   "cell_type": "markdown",
   "id": "ffc2c6b1",
   "metadata": {},
   "source": [
    "## Case study: Regular expression for Dates"
   ]
  },
  {
   "cell_type": "markdown",
   "id": "b9261b82",
   "metadata": {},
   "source": [
    "## Date variations for 23rd December 2021\n",
    "23-12-2021 \\\n",
    "23/12/2021 \\\n",
    "23/12/21\\\n",
    "12/23/2021 \\ \n",
    "23 Dec 2021 \\\n",
    "23 December 2021 \\ \n",
    "Dec 23, 2021 "
   ]
  },
  {
   "cell_type": "code",
   "execution_count": 57,
   "id": "e0335fb4",
   "metadata": {},
   "outputs": [
    {
     "data": {
      "text/plain": [
       "'23-12-2021\\n23/12/2021\\n23/12/21\\n12/23/2021\\n23 Dec 2021\\n23 December 2021\\n Dec 23, 2021\\n'"
      ]
     },
     "execution_count": 57,
     "metadata": {},
     "output_type": "execute_result"
    }
   ],
   "source": [
    "dateStr = '23-12-2021\\n23/12/2021\\n23/12/21\\n12/23/2021\\n23 Dec 2021\\n23 December 2021\\n Dec 23, 2021\\n'\n",
    "dateStr"
   ]
  },
  {
   "cell_type": "code",
   "execution_count": 59,
   "id": "7d618cd6",
   "metadata": {},
   "outputs": [
    {
     "data": {
      "text/plain": [
       "['23-12-2021', '23/12/2021', '12/23/2021']"
      ]
     },
     "execution_count": 59,
     "metadata": {},
     "output_type": "execute_result"
    }
   ],
   "source": [
    "re.findall(r'\\d{2}[/-]\\d{2}[/-]\\d{4}', dateStr)"
   ]
  },
  {
   "cell_type": "code",
   "execution_count": 60,
   "id": "35e9b84f",
   "metadata": {},
   "outputs": [
    {
     "data": {
      "text/plain": [
       "['23-12-2021', '23/12/2021', '23/12/21', '12/23/2021']"
      ]
     },
     "execution_count": 60,
     "metadata": {},
     "output_type": "execute_result"
    }
   ],
   "source": [
    "re.findall(r'\\d{2}[/-]\\d{2}[/-]\\d{2,4}', dateStr)"
   ]
  },
  {
   "cell_type": "code",
   "execution_count": 61,
   "id": "47323dfd",
   "metadata": {},
   "outputs": [
    {
     "data": {
      "text/plain": [
       "['23-12-2021', '23/12/2021', '23/12/21', '12/23/2021']"
      ]
     },
     "execution_count": 61,
     "metadata": {},
     "output_type": "execute_result"
    }
   ],
   "source": [
    "re.findall(r'\\d{1,2}[/-]\\d{1,2}[/-]\\d{2,4}', dateStr)"
   ]
  },
  {
   "cell_type": "code",
   "execution_count": 63,
   "id": "ab513609",
   "metadata": {},
   "outputs": [
    {
     "data": {
      "text/plain": [
       "['Dec']"
      ]
     },
     "execution_count": 63,
     "metadata": {},
     "output_type": "execute_result"
    }
   ],
   "source": [
    "re.findall(r'\\d{2} (Jan|Feb|Mar|Apr|Jun|Jul|Aug|Sep|Oct|Nov|Dec) \\d{4}', dateStr)"
   ]
  },
  {
   "cell_type": "code",
   "execution_count": 64,
   "id": "a870a554",
   "metadata": {},
   "outputs": [
    {
     "data": {
      "text/plain": [
       "['23 Dec 2021']"
      ]
     },
     "execution_count": 64,
     "metadata": {},
     "output_type": "execute_result"
    }
   ],
   "source": [
    "re.findall(r'\\d{2} (?:Jan|Feb|Mar|Apr|Jun|Jul|Aug|Sep|Oct|Nov|Dec) \\d{4}', dateStr)"
   ]
  },
  {
   "cell_type": "code",
   "execution_count": 67,
   "id": "59b342c9",
   "metadata": {},
   "outputs": [
    {
     "data": {
      "text/plain": [
       "['23 Dec 2021', '23 December 2021', 'Dec 23, 2021']"
      ]
     },
     "execution_count": 67,
     "metadata": {},
     "output_type": "execute_result"
    }
   ],
   "source": [
    "re.findall(r'(?:\\d{2} )?(?:Jan|Feb|Mar|Apr|Jun|Jul|Aug|Sep|Oct|Nov|Dec)[a-z]* (?:\\d{2}, )?\\d{4}', dateStr)"
   ]
  },
  {
   "cell_type": "markdown",
   "id": "2627c018",
   "metadata": {},
   "source": [
    "# Working with Text Data in pandas"
   ]
  },
  {
   "cell_type": "code",
   "execution_count": 70,
   "id": "834903c4",
   "metadata": {
    "scrolled": true
   },
   "outputs": [
    {
     "data": {
      "text/html": [
       "<div>\n",
       "<style scoped>\n",
       "    .dataframe tbody tr th:only-of-type {\n",
       "        vertical-align: middle;\n",
       "    }\n",
       "\n",
       "    .dataframe tbody tr th {\n",
       "        vertical-align: top;\n",
       "    }\n",
       "\n",
       "    .dataframe thead th {\n",
       "        text-align: right;\n",
       "    }\n",
       "</style>\n",
       "<table border=\"1\" class=\"dataframe\">\n",
       "  <thead>\n",
       "    <tr style=\"text-align: right;\">\n",
       "      <th></th>\n",
       "      <th>text</th>\n",
       "    </tr>\n",
       "  </thead>\n",
       "  <tbody>\n",
       "    <tr>\n",
       "      <th>0</th>\n",
       "      <td>Monday: The doctor's appointment is at 2:45pm.</td>\n",
       "    </tr>\n",
       "    <tr>\n",
       "      <th>1</th>\n",
       "      <td>Tuesdat: The dentist's appointment is at 11:30...</td>\n",
       "    </tr>\n",
       "    <tr>\n",
       "      <th>2</th>\n",
       "      <td>Wedneday: At 7:00pm, there is a basktball game!</td>\n",
       "    </tr>\n",
       "    <tr>\n",
       "      <th>3</th>\n",
       "      <td>Thursday: Be back home by 11:15 pm at the latest.</td>\n",
       "    </tr>\n",
       "    <tr>\n",
       "      <th>4</th>\n",
       "      <td>Friday: Take the train at 08:10 am, arrive at ...</td>\n",
       "    </tr>\n",
       "  </tbody>\n",
       "</table>\n",
       "</div>"
      ],
      "text/plain": [
       "                                                text\n",
       "0     Monday: The doctor's appointment is at 2:45pm.\n",
       "1  Tuesdat: The dentist's appointment is at 11:30...\n",
       "2    Wedneday: At 7:00pm, there is a basktball game!\n",
       "3  Thursday: Be back home by 11:15 pm at the latest.\n",
       "4  Friday: Take the train at 08:10 am, arrive at ..."
      ]
     },
     "execution_count": 70,
     "metadata": {},
     "output_type": "execute_result"
    }
   ],
   "source": [
    "import pandas as pd\n",
    "\n",
    "time_sentences = [\"Monday: The doctor's appointment is at 2:45pm.\",\n",
    "                 \"Tuesdat: The dentist's appointment is at 11:30 am.\",\n",
    "                 \"Wedneday: At 7:00pm, there is a basktball game!\", \n",
    "                 \"Thursday: Be back home by 11:15 pm at the latest.\", \n",
    "                 \"Friday: Take the train at 08:10 am, arrive at 9:00 am.\"]\n",
    "df = pd.DataFrame(time_sentences, columns=['text'])\n",
    "df"
   ]
  },
  {
   "cell_type": "code",
   "execution_count": 71,
   "id": "a2676623",
   "metadata": {},
   "outputs": [
    {
     "data": {
      "text/plain": [
       "0    46\n",
       "1    50\n",
       "2    47\n",
       "3    49\n",
       "4    54\n",
       "Name: text, dtype: int64"
      ]
     },
     "execution_count": 71,
     "metadata": {},
     "output_type": "execute_result"
    }
   ],
   "source": [
    "df['text'].str.len()"
   ]
  },
  {
   "cell_type": "code",
   "execution_count": 74,
   "id": "542c4b74",
   "metadata": {},
   "outputs": [
    {
     "data": {
      "text/plain": [
       "0     7\n",
       "1     8\n",
       "2     8\n",
       "3    10\n",
       "4    11\n",
       "Name: text, dtype: int64"
      ]
     },
     "execution_count": 74,
     "metadata": {},
     "output_type": "execute_result"
    }
   ],
   "source": [
    "df['text'].str.split().str.len()"
   ]
  },
  {
   "cell_type": "code",
   "execution_count": 75,
   "id": "e3c32da2",
   "metadata": {},
   "outputs": [
    {
     "data": {
      "text/plain": [
       "0     True\n",
       "1     True\n",
       "2    False\n",
       "3    False\n",
       "4    False\n",
       "Name: text, dtype: bool"
      ]
     },
     "execution_count": 75,
     "metadata": {},
     "output_type": "execute_result"
    }
   ],
   "source": [
    "df['text'].str.contains('appointment')"
   ]
  },
  {
   "cell_type": "code",
   "execution_count": 76,
   "id": "5a7dca66",
   "metadata": {},
   "outputs": [
    {
     "data": {
      "text/plain": [
       "0    3\n",
       "1    4\n",
       "2    3\n",
       "3    4\n",
       "4    7\n",
       "Name: text, dtype: int64"
      ]
     },
     "execution_count": 76,
     "metadata": {},
     "output_type": "execute_result"
    }
   ],
   "source": [
    "df['text'].str.count(r'\\d') #count the number of digits in the dataframe"
   ]
  },
  {
   "cell_type": "code",
   "execution_count": null,
   "id": "a1e81da3",
   "metadata": {},
   "outputs": [],
   "source": []
  },
  {
   "cell_type": "code",
   "execution_count": null,
   "id": "a3bd508d",
   "metadata": {},
   "outputs": [],
   "source": []
  },
  {
   "cell_type": "code",
   "execution_count": null,
   "id": "d4cdabe7",
   "metadata": {},
   "outputs": [],
   "source": []
  }
 ],
 "metadata": {
  "kernelspec": {
   "display_name": "Python 3 (ipykernel)",
   "language": "python",
   "name": "python3"
  },
  "language_info": {
   "codemirror_mode": {
    "name": "ipython",
    "version": 3
   },
   "file_extension": ".py",
   "mimetype": "text/x-python",
   "name": "python",
   "nbconvert_exporter": "python",
   "pygments_lexer": "ipython3",
   "version": "3.9.7"
  }
 },
 "nbformat": 4,
 "nbformat_minor": 5
}
